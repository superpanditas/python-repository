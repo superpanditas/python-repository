{
  "cells": [
    {
      "cell_type": "markdown",
      "metadata": {
        "id": "view-in-github",
        "colab_type": "text"
      },
      "source": [
        "<a href=\"https://colab.research.google.com/github/superpanditas/python-repository/blob/main/BI_Exam.ipynb\" target=\"_parent\"><img src=\"https://colab.research.google.com/assets/colab-badge.svg\" alt=\"Open In Colab\"/></a>"
      ]
    },
    {
      "cell_type": "markdown",
      "metadata": {
        "id": "12OrnImy0p1r"
      },
      "source": [
        "# Business Intelligence Test"
      ]
    },
    {
      "cell_type": "markdown",
      "metadata": {
        "id": "rq3ab2h20p1t"
      },
      "source": [
        "### Name: *Waldo Vazquez Santiago*\n",
        "#### Date: *2023/04/01*"
      ]
    },
    {
      "cell_type": "markdown",
      "metadata": {
        "id": "FoLVdvU20p1u"
      },
      "source": [
        "Instructions: This exam consists of problems to be solved by writing code in Python. Be sure to explain clearly wherever necessary and to comment your code."
      ]
    },
    {
      "cell_type": "markdown",
      "metadata": {
        "id": "agnju3Vd0p1u"
      },
      "source": [
        "**Problem 1**\n",
        "Let’s take a square of length 1 m , that contains inside it a circle of diameter 1 m, as shown in the figure below."
      ]
    },
    {
      "cell_type": "markdown",
      "metadata": {
        "id": "7sIglo1s0p1u"
      },
      "source": [
        "![image](circle.jpg)"
      ]
    },
    {
      "cell_type": "markdown",
      "metadata": {
        "id": "91PBowvD0p1u"
      },
      "source": [
        "a) Write a code to determine, through simulations, the probability that if we pick a random point inside the square, it lies inside the circle. Calculate this probability using at least three different numbers of iterations, with distinct orders of magnitude.\n",
        "Analytically, what should this probability be?"
      ]
    },
    {
      "cell_type": "code",
      "execution_count": 59,
      "metadata": {
        "colab": {
          "base_uri": "https://localhost:8080/"
        },
        "id": "lDCji4wG0p1v",
        "outputId": "203446be-2db6-410b-e337-d6fba01168da"
      },
      "outputs": [
        {
          "output_type": "stream",
          "name": "stdout",
          "text": [
            "0.7813\n"
          ]
        }
      ],
      "source": [
        "import numpy as np\n",
        "\n",
        "# First of all the probability should be the area of circle divided by area of square\n",
        "# Suppuse a circle with center at (0,0) then a random point lies insede the circle if and only if satisfied the equation x^2 + y^2 <= 1  \n",
        "# Use a uniform distribution to get value inside the square  \n",
        "# The idea is calculate the probability dividing # cases when random point is inside the circle and # random points \n",
        "# size iqual to iterations\n",
        "\n",
        "# function to get if meet the condition\n",
        "def satisfied_equation(coord_x, coord_y):\n",
        "  if (coord_x**2 + coord_y**2) <= 1: \n",
        "    return True \n",
        "\n",
        "# function to calculate probability that random point is inside of circle\n",
        "def prob_randompoint_inside(iter):\n",
        "  x_samples = np.random.uniform(-1, 1, size = iter)\n",
        "  y_samples = np.random.uniform(-1, 1, size = iter)\n",
        "  counter = 0.0\n",
        "  for x,y in zip(x_samples, y_samples):\n",
        "    if satisfied_equation(x,y) == True:\n",
        "      counter += 1\n",
        "  return round(counter / iter,4)\n",
        "\n",
        "# After 20K samples the probability does not change much, so  the probability that pick a random number inside the circle is 0.78\n",
        "print(prob_randompoint_inside(iter=25000))      "
      ]
    },
    {
      "cell_type": "markdown",
      "metadata": {
        "id": "uzVZRNjt0p1v"
      },
      "source": [
        "b) Analytically, what should this probability be?"
      ]
    },
    {
      "cell_type": "markdown",
      "metadata": {
        "id": "IuyAdF9d0p1v"
      },
      "source": [
        "\n",
        "\n",
        "The probability should be the area of circle, it means pi*(r**2) that is pi*(0.5**2) = 0.78\n"
      ]
    },
    {
      "cell_type": "markdown",
      "metadata": {
        "id": "zB6vM6Am0p1v"
      },
      "source": [
        "c) According to b), the code you wrote in a) can be used to approximate what famous mathematical constant? Modify the number of iterations in your code until you can approximate this number correctly to four decimal places."
      ]
    },
    {
      "cell_type": "code",
      "execution_count": 80,
      "metadata": {
        "colab": {
          "base_uri": "https://localhost:8080/"
        },
        "id": "EcQkwWP40p1w",
        "outputId": "05b3f285-2c02-4fe9-9181-3934fcaeb1af"
      },
      "outputs": [
        {
          "output_type": "stream",
          "name": "stdout",
          "text": [
            "3.141604013333333\n"
          ]
        }
      ],
      "source": [
        "# function to get if meet the condition\n",
        "def satisfied_equation(coord_x, coord_y):\n",
        "  if (coord_x**2 + coord_y**2) <= 1: \n",
        "    return True \n",
        "\n",
        "# function to calculate probability that random point is inside of circle\n",
        "def prob_randompoint_inside(iter):\n",
        "  x_samples = np.random.uniform(-1, 1, size = iter)\n",
        "  y_samples = np.random.uniform(-1, 1, size = iter)\n",
        "  counter = 0.0\n",
        "  for x,y in zip(x_samples, y_samples):\n",
        "    if satisfied_equation(x,y) == True:\n",
        "      counter += 1\n",
        "  return counter / iter\n",
        "\n",
        "print(prob_randompoint_inside(iter=600000000)/(0.5**2))"
      ]
    },
    {
      "cell_type": "markdown",
      "metadata": {
        "id": "cLK3kdz90p1w"
      },
      "source": [
        "How many iterations did you require?\n",
        "\n",
        "I reach approximation of 4 decimal using a iteration of 600M of samples"
      ]
    },
    {
      "cell_type": "markdown",
      "metadata": {
        "id": "PS2vmlxy0p1w"
      },
      "source": []
    },
    {
      "cell_type": "markdown",
      "metadata": {
        "id": "NDPfPFjD0p1w"
      },
      "source": [
        "**Problem 2**\n",
        "Suppose an IPv42 address is represented by 4 decimal numbers from 0 to 420, separated by periods “.”, e.g. 192.10.24.2. An IPv62 address is represented by 8 groups of 4 numbers in base 18, separated by colons “:”, e.g. 2001:0db8:85a3:0000:0000:8a2e:0370:7334 is a valid address. The zeros to the left of the digits can be omitted and they are not case sensitive, so that 2001:db8:85a3::8A2E:370:7334 is also a valid address. For simplicity, for this problem we will not allow the case where we have double colons: “::”. Write a function that verifies if an address is IPv42, IPv62, or neither."
      ]
    },
    {
      "cell_type": "code",
      "execution_count": null,
      "metadata": {
        "id": "g1huhTds0p1w"
      },
      "outputs": [],
      "source": []
    },
    {
      "cell_type": "markdown",
      "metadata": {
        "id": "5N9biBWJ0p1w"
      },
      "source": [
        "Finally, take the following list of possible IPs:"
      ]
    },
    {
      "cell_type": "code",
      "execution_count": null,
      "metadata": {
        "id": "tdOG6QG80p1w"
      },
      "outputs": [],
      "source": [
        "IP_list = [\n",
        "'197.10.2462.2', \n",
        "'2001:0dbi:85a3:0000:0000:8f2e:0370:7334',\n",
        "'321.10.324.2', \n",
        "'2001:0db8:85a3:0000:0000:8a2e:0370:7334:8412',\n",
        "'192.10.24.2.5', \n",
        "'3001:1db8:85b3:0020:4509:8a2f:0370',\n",
        "'194.102.245.251:7334',\n",
        "'3001:1db8:85b3:0020:45709:8a2f:0370',\n",
        "'192.10.2.4.2.5'\n",
        "]\n"
      ]
    },
    {
      "cell_type": "markdown",
      "metadata": {
        "id": "8M0MOKJQ0p1x"
      },
      "source": [
        "And output a pandas DataFrame containing two columns: one named “String”, containing the strings in the above list, and another named “IP type”, indicating what type of IP it is (IPv42, IPv62, or neither)."
      ]
    },
    {
      "cell_type": "code",
      "execution_count": null,
      "metadata": {
        "id": "zkww6N010p1x"
      },
      "outputs": [],
      "source": []
    },
    {
      "cell_type": "markdown",
      "metadata": {
        "id": "KHnk55WA0p1x"
      },
      "source": [
        "**Problem 3**\n",
        "You are given the task of creating a very simple scoring algorithm, that will be given a set of weights and a set of ‘subscores’, and should output a final score, which is just the dot product of the weights and subscores.\n",
        "For example, let’s take the weights for a 'Demographic Score', as given by the following dictionary:"
      ]
    },
    {
      "cell_type": "code",
      "execution_count": 81,
      "metadata": {
        "id": "rkhUBm0k0p1x"
      },
      "outputs": [],
      "source": [
        "dem_weights = {\"age\": 0.3,\n",
        "            \"gender\": 0.2,\n",
        "            \"location\":{\"security\":0.5,\n",
        "                        \"schooling\":0.3,\n",
        "                        \"bancarization\":0.2\n",
        "                        }\n",
        "            }"
      ]
    },
    {
      "cell_type": "markdown",
      "metadata": {
        "id": "MGi8fQ0U0p1y"
      },
      "source": [
        "The subscores for the Demographic Score will be given by a dictionary with the same structure, but different values, for example:"
      ]
    },
    {
      "cell_type": "code",
      "execution_count": 82,
      "metadata": {
        "id": "3X-sVtcZ0p1y"
      },
      "outputs": [],
      "source": [
        "dem_subscores = {\"age\": 60,\n",
        "            \"gender\": 45,\n",
        "            \"location\":{\"security\":23,\n",
        "                        \"schooling\":46,\n",
        "                        \"bancarization\":39\n",
        "                        }\n",
        "            }"
      ]
    },
    {
      "cell_type": "markdown",
      "metadata": {
        "id": "vdOO13WS0p1y"
      },
      "source": [
        "The Final Score for these particular weights and subscores should be, taking the product of the matching keys in both dictionaries, 60.1"
      ]
    },
    {
      "cell_type": "markdown",
      "metadata": {
        "id": "Q7ZOlhLy0p1y"
      },
      "source": [
        "Define a class, called 'Model', that takes as arguments both the weights and subscores of a given user, for any given model. Construct a method called get_finalscore() that returns the final score exactly as previously described: a dot product between the keys of both dictionaries.\n",
        "Keep in mind that the structure of the dictionaries can vary between models."
      ]
    },
    {
      "cell_type": "code",
      "execution_count": 183,
      "metadata": {
        "colab": {
          "base_uri": "https://localhost:8080/"
        },
        "id": "O4WnAxmJ0p1y",
        "outputId": "4d52fdd9-dded-4817-f84e-a4d5bb3baf25"
      },
      "outputs": [
        {
          "output_type": "stream",
          "name": "stdout",
          "text": [
            "60.1\n"
          ]
        }
      ],
      "source": [
        "class Model:\n",
        "\n",
        "  # Initializing the variables\n",
        "  weights = {}\n",
        "  subscores = {}\n",
        "  \n",
        "  # Constructor\n",
        "  def __init__(self, dict_weights, dict_subscores):\n",
        "    self.weights = dict_weights\n",
        "    self.subscores = dict_subscores\n",
        "  # get weights\n",
        "  def get_weights(self):\n",
        "    return self.weights\n",
        "  # get subscores\n",
        "  def get_subscores(self):\n",
        "    return self.subscores\n",
        "  # get common keys between two dictionaries \n",
        "  def common_keys(dict1, dict2):\n",
        "    keys = set(dict1.keys()) & set(dict2.keys())\n",
        "    return keys\n",
        "  # get product of two values\n",
        "  def dot_product(dict1, dict2, k):\n",
        "    dot = dict1[k] * dict2[k]\n",
        "    return dot\n",
        "  # Use the base case when the key lies on both dictionaries and when the key has other keys use the same function it means recursion\n",
        "  def get_subscore(weights, subscores):\n",
        "    counter = 0.0\n",
        "    keys = common_keys(weights, subscores)\n",
        "    for i in keys:\n",
        "      if not isinstance(weights[i], dict) and not isinstance(subscores[i], dict):\n",
        "        counter += dot_product(weights, subscores, i)\n",
        "      elif isinstance(weights[i], dict) and isinstance(subscores[i], dict):\n",
        "        counter += get_subscore(weights[i], subscores[i])\n",
        "    return counter  \n",
        "  \n",
        "  def get_finalscore(self):\n",
        "    print(get_subscore(self.weights, self.subscores))\n",
        "  \n",
        "       \n",
        "  \n",
        "# Example\n",
        "model = Model(dem_weights, dem_subscores)\n",
        "model.get_finalscore()\n"
      ]
    },
    {
      "cell_type": "markdown",
      "metadata": {
        "id": "RIQgcaQU0p1y"
      },
      "source": [
        "\n",
        "\n",
        "```\n",
        "# Tiene formato de código\n",
        "```\n",
        "\n",
        "Obtain the final score for the following models by constructing objects of the Model class:\n",
        "- Demographic Model (you can find an example of weights in the dem_weights json file)\n",
        "- Credit Model (you can find an example of weights in the credit_weights json file)\n",
        "- Transactions Model (you can find an example of weights in the txns_weights json file)\n",
        "\n",
        "Your code should work for the examples given, and any other set of weights/scores, with different structures."
      ]
    },
    {
      "cell_type": "code",
      "execution_count": 177,
      "metadata": {
        "id": "d_Uf188x0p1y"
      },
      "outputs": [],
      "source": [
        "credit_weights = {\"loans\":{\"historic_number\":-0.1,\n",
        "            \"active_number\":-0.1,\n",
        "            \"historic_paid\":0.3,\n",
        "            \"active_paid\":0.7,\n",
        "            \"historic_defaulted\":-0.3,\n",
        "            \"active_defaulted\":-0.5\n",
        "            },\n",
        "\"credit_cards\":{\n",
        "            \"credit_limit\":{\"average\": 0.1,\n",
        "                            \"max\":0.2\n",
        "                            },\n",
        "            \"active_number\":0.1,\n",
        "            \"historic_paid\":0.1,\n",
        "            \"active_paid\":0.4,\n",
        "            \"historic_defaulted\":-0.3,\n",
        "            \"active_defaulted\":-0.7\n",
        "            },\n",
        "\"mortgages\":{\n",
        "            \"amount\":0.4,\n",
        "            \"paid_periods\":0.6,\n",
        "            \"unpaid_periods\":-1.0\n",
        "            }\n",
        "}\n",
        "\n",
        "demographic_weights = {\"age\": 0.3,\n",
        "\"gender\": 0.2,\n",
        "\"location\":{\"security\":0.5,\n",
        "            \"schooling\":0.3,\n",
        "            \"bancarization\":0.2\n",
        "            }\n",
        "}\n",
        "\n",
        "transactions_weights = {\"amounts\":{\"avg\":0.1,\n",
        "            \"max\":0.2,\n",
        "            \"min\":0.1\n",
        "            },\n",
        "\"count\":{\"overall\":0.3,\n",
        "        \"monthly\":0.2\n",
        "            },\n",
        "\"categories\":{\"topups\":{\"amounts\":{\"avg\":0.1,\n",
        "                                    \"max\":0.2,\n",
        "                                    \"min\":0.1\n",
        "                                    },\n",
        "                        \"count\":{\"overall\":0.3,\n",
        "                                \"monthly\":0.2\n",
        "                                }\n",
        "                        },                       \n",
        "            \"bills\":{\"amounts\":{\"avg\":0.1,\n",
        "                        \"max\":0.2,\n",
        "                        \"min\":0.1\n",
        "                        },\n",
        "                    \"count\":{\"overall\":0.3,\n",
        "                        \"monthly\":0.2\n",
        "                        }\n",
        "                    }\n",
        "            }\n",
        "}\n"
      ]
    },
    {
      "cell_type": "code",
      "source": [
        "# Example 2\n",
        "model2 = Model(credit_weights, dem_subscores)\n",
        "model2.get_finalscore()\n"
      ],
      "metadata": {
        "colab": {
          "base_uri": "https://localhost:8080/"
        },
        "id": "2orXFRPPq6st",
        "outputId": "f7a9387b-7306-4374-9b78-6279246af793"
      },
      "execution_count": 181,
      "outputs": [
        {
          "output_type": "stream",
          "name": "stdout",
          "text": [
            "0.0\n"
          ]
        }
      ]
    },
    {
      "cell_type": "code",
      "source": [
        "# Example 3\n",
        "model3 = Model(demographic_weights, dem_subscores)\n",
        "model3.get_finalscore()"
      ],
      "metadata": {
        "colab": {
          "base_uri": "https://localhost:8080/"
        },
        "id": "66sHTP5oq8PA",
        "outputId": "ac43086f-ef8d-407c-b403-30e439928b23"
      },
      "execution_count": 179,
      "outputs": [
        {
          "output_type": "stream",
          "name": "stdout",
          "text": [
            "60.1\n"
          ]
        }
      ]
    },
    {
      "cell_type": "code",
      "source": [
        "# Example 4\n",
        "model4 = Model(transactions_weights, dem_subscores)\n",
        "model4.get_finalscore()"
      ],
      "metadata": {
        "colab": {
          "base_uri": "https://localhost:8080/"
        },
        "id": "ZXOlulLMr1i7",
        "outputId": "8102c7eb-92a8-4161-c692-7a8d15d5d4b6"
      },
      "execution_count": 182,
      "outputs": [
        {
          "output_type": "stream",
          "name": "stdout",
          "text": [
            "0.0\n"
          ]
        }
      ]
    },
    {
      "cell_type": "markdown",
      "metadata": {
        "id": "BEFJP8eV0p1y"
      },
      "source": []
    }
  ],
  "metadata": {
    "kernelspec": {
      "display_name": "base",
      "language": "python",
      "name": "python3"
    },
    "language_info": {
      "codemirror_mode": {
        "name": "ipython",
        "version": 3
      },
      "file_extension": ".py",
      "mimetype": "text/x-python",
      "name": "python",
      "nbconvert_exporter": "python",
      "pygments_lexer": "ipython3",
      "version": "3.7.4"
    },
    "vscode": {
      "interpreter": {
        "hash": "ad2bdc8ecc057115af97d19610ffacc2b4e99fae6737bb82f5d7fb13d2f2c186"
      }
    },
    "colab": {
      "provenance": [],
      "include_colab_link": true
    }
  },
  "nbformat": 4,
  "nbformat_minor": 0
}